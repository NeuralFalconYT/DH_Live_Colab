{
  "nbformat": 4,
  "nbformat_minor": 0,
  "metadata": {
    "colab": {
      "provenance": [],
      "gpuType": "T4"
    },
    "kernelspec": {
      "name": "python3",
      "display_name": "Python 3"
    },
    "language_info": {
      "name": "python"
    },
    "accelerator": "GPU"
  },
  "cells": [
    {
      "cell_type": "code",
      "source": [
        "#@title Install DH_live\n",
        "base_path=\"/content\"\n",
        "# base_path=\"/content\" change this\n",
        "!rm -rf  $base_path/DH_live\n",
        "%cd $base_path\n",
        "!git clone https://github.com/kleinlee/DH_live.git\n",
        "%cd $base_path/DH_live\n",
        "!wget https://raw.githubusercontent.com/NeuralFalconYT/DH_Live_Colab/refs/heads/main/app.py\n",
        "#!sudo apt install ffmpeg -y\n",
        "#!pip install torch --index-url https://download.pytorch.org/whl/cu124\n",
        "!pip install -r requirements.txt\n",
        "!pip install gradio\n",
        "!pip install click\n",
        "%cd $base_path/DH_live/checkpoint\n",
        "!cat render.pth.gz.001 render.pth.gz.002 > render.pth.gz\n",
        "!gzip -d -c render.pth.gz > render.pth\n",
        "%cd $base_path/DH_live\n",
        "from IPython.display import clear_output\n",
        "clear_output()\n",
        "# !python app.py --debug --share"
      ],
      "metadata": {
        "cellView": "form",
        "id": "Kge-GG0E0sAD"
      },
      "execution_count": null,
      "outputs": []
    },
    {
      "cell_type": "code",
      "source": [
        "# !python /content/DH_live/app.py --debug --share\n",
        "!python /content/DH_live/app.py --share"
      ],
      "metadata": {
        "id": "0vN96Gve1TYe"
      },
      "execution_count": null,
      "outputs": []
    }
  ]
}