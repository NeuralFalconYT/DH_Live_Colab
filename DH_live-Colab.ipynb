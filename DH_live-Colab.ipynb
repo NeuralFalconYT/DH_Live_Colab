{
  "nbformat": 4,
  "nbformat_minor": 0,
  "metadata": {
    "colab": {
      "provenance": [],
      "gpuType": "T4"
    },
    "kernelspec": {
      "name": "python3",
      "display_name": "Python 3"
    },
    "language_info": {
      "name": "python"
    },
    "accelerator": "GPU"
  },
  "cells": [
    {
      "cell_type": "code",
      "source": [
        "#@title Install DH_live\n",
        "base_path=\"/content\"\n",
        "!rm -rf  $base_path/DH_live\n",
        "%cd $base_path\n",
        "!git clone https://github.com/NeuralFalconYT/DH_live.git\n",
        "%cd $base_path/DH_live\n",
        "!python make_model.py\n",
        "!pip install -r requirements.txt\n",
        "#!sudo apt install ffmpeg -y\n",
        "#!pip install torch --index-url https://download.pytorch.org/whl/cu124\n",
        "#Match it [cu124] with your CUDA version, otherwise it will run on the CPU\n",
        "from IPython.display import clear_output\n",
        "clear_output()"
      ],
      "metadata": {
        "cellView": "form",
        "id": "2Op9HtzGlfpx"
      },
      "execution_count": 2,
      "outputs": []
    },
    {
      "cell_type": "code",
      "source": [
        "!python $base_path/DH_live/app.py --debug --share"
      ],
      "metadata": {
        "id": "fiC4mGvolzGt"
      },
      "execution_count": null,
      "outputs": []
    }
  ]
}